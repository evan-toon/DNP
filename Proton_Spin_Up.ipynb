{
 "cells": [
  {
   "cell_type": "markdown",
   "id": "502a2b3858707a8b",
   "metadata": {},
   "source": [
    "# Proton Spin Up"
   ]
  },
  {
   "cell_type": "code",
   "execution_count": 2,
   "id": "a62a1f32e42b6147",
   "metadata": {
    "ExecuteTime": {
     "end_time": "2025-06-04T20:20:36.971536Z",
     "start_time": "2025-06-04T20:20:36.873158Z"
    }
   },
   "outputs": [],
   "source": [
    "import ipywidgets as widgets\n",
    "from ipywidgets import interact, IntSlider\n",
    "import numpy as np\n",
    "import matplotlib.pyplot as plt\n",
    "import json\n",
    "import pandas as pd\n",
    "from scipy import optimize\n",
    "from scipy.optimize import curve_fit"
   ]
  },
  {
   "cell_type": "markdown",
   "id": "30ca21f61bed3fa2",
   "metadata": {},
   "source": [
    "## Polarization vs Time"
   ]
  },
  {
   "cell_type": "code",
   "execution_count": 3,
   "id": "6e4dc9e5aabad694",
   "metadata": {},
   "outputs": [
    {
     "data": {
      "text/plain": [
       "<Axes: title={'center': 'Polarization Over Time'}, xlabel='Datetime', ylabel='Polarization'>"
      ]
     },
     "execution_count": 3,
     "metadata": {},
     "output_type": "execute_result"
    },
    {
     "data": {
      "image/png": "[encoded data removed]",
      "text/plain": [
       "<Figure size 640x480 with 1 Axes>"
      ]
     },
     "metadata": {},
     "output_type": "display_data"
    }
   ],
   "source": [
    "\n",
    "with open(\"2022-11-05_23-29-51__2022-11-06_11-20-39.txt\",\"r\") as eventfile:\n",
    "    df = pd.read_json(eventfile, lines=True)\n",
    "df['stop_time'] = pd.to_datetime(df['stop_time'])\n",
    "df.set_index('stop_time', inplace=True)\n",
    "\n",
    "df['pol'].plot(title='Polarization Over Time',\n",
    "                      xlabel='Datetime',\n",
    "                      ylabel='Polarization')\n"
   ]
  },
  {
   "cell_type": "markdown",
   "id": "f41eeeea7281d003",
   "metadata": {},
   "source": [
    "## Interactive Plot, Drag Slider to Select Result Curve"
   ]
  },
  {
   "cell_type": "code",
   "execution_count": 11,
   "id": "99cf4c038d08203",
   "metadata": {
    "ExecuteTime": {
     "end_time": "2025-06-05T14:24:08.081955Z",
     "start_time": "2025-06-05T14:24:07.845327Z"
    }
   },
   "outputs": [
    {
     "data": {
      "application/vnd.jupyter.widget-view+json": {
       "model_id": "a0cdba0018924cb58df1b8c7e2436bb3",
       "version_major": 2,
       "version_minor": 0
      },
      "text/plain": [
       "interactive(children=(IntSlider(value=9, description='Row Index:', max=131), Output()), _dom_classes=('widget-…"
      ]
     },
     "metadata": {},
     "output_type": "display_data"
    },
    {
     "data": {
      "text/plain": [
       "<function __main__.plot_pol_array(index)>"
      ]
     },
     "execution_count": 11,
     "metadata": {},
     "output_type": "execute_result"
    }
   ],
   "source": [
    "def plot_pol_array(index):\n",
    "    plt.figure(figsize=(10, 6))\n",
    "    signal_array = df.iloc[index]['rescurve']  # Get array from selected row\n",
    "    plt.plot(signal_array, linewidth=2)\n",
    "    plt.title(f\"Result Signal {index} (Polarization: {df.iloc[index]['pol']:.2f})\")\n",
    "    plt.grid(True, alpha=0.3)\n",
    "    plt.show()\n",
    "\n",
    "\n",
    "# Create interactive widget\n",
    "interact(plot_pol_array,\n",
    "         index=IntSlider(min=0, max=len(df)-1, step=1, value=9,\n",
    "                         description='Row Index:'))\n"
   ]
  },
  {
   "cell_type": "code",
   "execution_count": null,
   "id": "1e8cf1d4",
   "metadata": {},
   "outputs": [
    {
     "data": {
      "application/vnd.jupyter.widget-view+json": {
       "model_id": "15d28f35921c4bfa84fe01802bd67c5c",
       "version_major": 2,
       "version_minor": 0
      },
      "text/plain": [
       "interactive(children=(IntSlider(value=9, description='Row Index:', max=131), Output()), _dom_classes=('widget-…"
      ]
     },
     "metadata": {},
     "output_type": "display_data"
    },
    {
     "data": {
      "text/plain": [
       "<function __main__.plot_pol_array_with_fit(index)>"
      ]
     },
     "execution_count": 22,
     "metadata": {},
     "output_type": "execute_result"
    },
    {
     "data": {
      "text/plain": [
       "<Figure size 1000x600 with 0 Axes>"
      ]
     },
     "metadata": {},
     "output_type": "display_data"
    },
    {
     "data": {
      "text/plain": [
       "<Figure size 1000x600 with 0 Axes>"
      ]
     },
     "metadata": {},
     "output_type": "display_data"
    },
    {
     "data": {
      "text/plain": [
       "<Figure size 1000x600 with 0 Axes>"
      ]
     },
     "metadata": {},
     "output_type": "display_data"
    },
    {
     "data": {
      "text/plain": [
       "<Figure size 1000x600 with 0 Axes>"
      ]
     },
     "metadata": {},
     "output_type": "display_data"
    },
    {
     "data": {
      "text/plain": [
       "<Figure size 1000x600 with 0 Axes>"
      ]
     },
     "metadata": {},
     "output_type": "display_data"
    },
    {
     "data": {
      "text/plain": [
       "<Figure size 1000x600 with 0 Axes>"
      ]
     },
     "metadata": {},
     "output_type": "display_data"
    },
    {
     "data": {
      "text/plain": [
       "<Figure size 1000x600 with 0 Axes>"
      ]
     },
     "metadata": {},
     "output_type": "display_data"
    },
    {
     "data": {
      "text/plain": [
       "<Figure size 1000x600 with 0 Axes>"
      ]
     },
     "metadata": {},
     "output_type": "display_data"
    },
    {
     "data": {
      "text/plain": [
       "<Figure size 1000x600 with 0 Axes>"
      ]
     },
     "metadata": {},
     "output_type": "display_data"
    },
    {
     "data": {
      "text/plain": [
       "<Figure size 1000x600 with 0 Axes>"
      ]
     },
     "metadata": {},
     "output_type": "display_data"
    },
    {
     "data": {
      "text/plain": [
       "<Figure size 1000x600 with 0 Axes>"
      ]
     },
     "metadata": {},
     "output_type": "display_data"
    },
    {
     "data": {
      "text/plain": [
       "<Figure size 1000x600 with 0 Axes>"
      ]
     },
     "metadata": {},
     "output_type": "display_data"
    },
    {
     "data": {
      "text/plain": [
       "<Figure size 1000x600 with 0 Axes>"
      ]
     },
     "metadata": {},
     "output_type": "display_data"
    },
    {
     "data": {
      "text/plain": [
       "<Figure size 1000x600 with 0 Axes>"
      ]
     },
     "metadata": {},
     "output_type": "display_data"
    },
    {
     "data": {
      "text/plain": [
       "<Figure size 1000x600 with 0 Axes>"
      ]
     },
     "metadata": {},
     "output_type": "display_data"
    },
    {
     "data": {
      "text/plain": [
       "<Figure size 1000x600 with 0 Axes>"
      ]
     },
     "metadata": {},
     "output_type": "display_data"
    },
    {
     "data": {
      "text/plain": [
       "<Figure size 1000x600 with 0 Axes>"
      ]
     },
     "metadata": {},
     "output_type": "display_data"
    },
    {
     "data": {
      "text/plain": [
       "<Figure size 1000x600 with 0 Axes>"
      ]
     },
     "metadata": {},
     "output_type": "display_data"
    },
    {
     "data": {
      "text/plain": [
       "<Figure size 1000x600 with 0 Axes>"
      ]
     },
     "metadata": {},
     "output_type": "display_data"
    },
    {
     "data": {
      "text/plain": [
       "<Figure size 1000x600 with 0 Axes>"
      ]
     },
     "metadata": {},
     "output_type": "display_data"
    },
    {
     "data": {
      "text/plain": [
       "<Figure size 1000x600 with 0 Axes>"
      ]
     },
     "metadata": {},
     "output_type": "display_data"
    },
    {
     "data": {
      "text/plain": [
       "<Figure size 1000x600 with 0 Axes>"
      ]
     },
     "metadata": {},
     "output_type": "display_data"
    },
    {
     "data": {
      "text/plain": [
       "<Figure size 1000x600 with 0 Axes>"
      ]
     },
     "metadata": {},
     "output_type": "display_data"
    },
    {
     "data": {
      "text/plain": [
       "<Figure size 1000x600 with 0 Axes>"
      ]
     },
     "metadata": {},
     "output_type": "display_data"
    }
   ],
   "source": [
    "# Define Gaussian(s)\n",
    "def gaussian(x, amp, cen, wid):\n",
    "    return amp * np.exp(-(x - cen)**2 / (2 * wid**2))\n",
    "\n",
    "def three_gaussians(x, *params):\n",
    "    return sum(gaussian(x, *params[i:i+3]) for i in range(0, 9, 3))\n",
    "\n",
    "# Store fit results\n",
    "fit_results = []\n",
    "\n",
    "# Fit and plot individual curve\n",
    "def plot_pol_array_with_fit(index):\n",
    "    plt.figure(figsize=(10, 6))\n",
    "    signal_array = df.iloc[index]['rescurve']\n",
    "    x_data = np.arange(len(signal_array))\n",
    "\n",
    "    mean_val = np.mean(signal_array)\n",
    "    initial_guess = [\n",
    "        mean_val / 3, len(signal_array) / 4, 100,\n",
    "        mean_val / 3, len(signal_array) / 2, 100,\n",
    "        mean_val / 3, 3 * len(signal_array) / 4, 100\n",
    "    ]\n",
    "\n",
    "    popt, _ = curve_fit(three_gaussians, x_data, signal_array, p0=initial_guess)\n",
    "\n",
    "    # Append results\n",
    "    fit_results.append({\n",
    "        'index': index,\n",
    "        'time': df.index[index],\n",
    "        'pol': df.iloc[index]['pol'],\n",
    "        'params': popt\n",
    "    })\n",
    "\n",
    "    # Plot original and fit\n",
    "    plt.plot(x_data, signal_array, label='Original Signal', linewidth=2)\n",
    "    plt.plot(x_data, three_gaussians(x_data, *popt), '--', color='red', label='Total Fit')\n",
    "\n",
    "    # Plot Gaussians\n",
    "    colors = ['blue', 'green', 'purple']\n",
    "    for i in range(3):\n",
    "        amp, cen, wid = popt[i*3:i*3+3]\n",
    "        label = f'Gaussian{i+1}: Amplitude={amp:.1f}, Center={cen:.1f}, Width={wid:.1f}'\n",
    "        g = gaussian(x_data, amp, cen, wid)\n",
    "        plt.plot(x_data, g, linestyle=':', color=colors[i], label=label)\n",
    "\n",
    "    plt.title(f\"Signal {index} | Polarization: {df.iloc[index]['pol']:.2f}\")\n",
    "    plt.xlabel(\"Index\")\n",
    "    plt.ylabel(\"Signal\")\n",
    "    plt.grid(True, alpha=0.3)\n",
    "    plt.legend()\n",
    "    plt.show()\n",
    "\n",
    "# Create slider\n",
    "interact(plot_pol_array_with_fit,\n",
    "         index=IntSlider(min=0, max=len(df)-1, step=1, value=9, description='Row Index:'))\n",
    "\n",
    "\n",
    "\n",
    "\n"
   ]
  },
  {
   "cell_type": "code",
   "execution_count": 20,
   "id": "746d5029",
   "metadata": {},
   "outputs": [
    {
     "data": {
      "image/png": "[encoded data removed]",
      "text/plain": [
       "<Figure size 1000x600 with 1 Axes>"
      ]
     },
     "metadata": {},
     "output_type": "display_data"
    }
   ],
   "source": [
    "# Convert fit results to DataFrame\n",
    "fit_df = pd.DataFrame(fit_results)\n",
    "\n",
    "# How Gaussian center changes with polarization\n",
    "plt.figure(figsize=(10,6))\n",
    "for i in range(3):\n",
    "    centers = fit_df['params'].apply(lambda p: p[i*3+1])\n",
    "    plt.plot(fit_df['pol'], centers, 'o-', label = f'Gaussian {i+1} center')\n",
    "\n",
    "plt.xlabel('Polarization')\n",
    "plt.ylabel('Center Position')\n",
    "plt.title('Gaussian Centers vs Polarization')\n",
    "plt.grid(True, alpha = 0.3)\n",
    "plt.legend()\n",
    "plt.show()"
   ]
  },
  {
   "cell_type": "code",
   "execution_count": null,
   "id": "21517bb4",
   "metadata": {},
   "outputs": [],
   "source": []
  }
 ],
 "metadata": {
  "kernelspec": {
   "display_name": "Python 3",
   "language": "python",
   "name": "python3"
  },
  "language_info": {
   "codemirror_mode": {
    "name": "ipython",
    "version": 3
   },
   "file_extension": ".py",
   "mimetype": "text/x-python",
   "name": "python",
   "nbconvert_exporter": "python",
   "pygments_lexer": "ipython3",
   "version": "3.11.9"
  }
 },
 "nbformat": 4,
 "nbformat_minor": 5
}
