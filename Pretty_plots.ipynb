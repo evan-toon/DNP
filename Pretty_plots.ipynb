{
 "cells": [
  {
   "cell_type": "code",
   "execution_count": 178,
   "id": "c7867ec3",
   "metadata": {},
   "outputs": [],
   "source": [
    "import ipywidgets as widgets\n",
    "from ipywidgets import interact, IntSlider\n",
    "import numpy as np\n",
    "import matplotlib.pyplot as plt\n",
    "import json\n",
    "import pandas as pd\n",
    "from scipy import optimize\n",
    "from scipy.optimize import curve_fit"
   ]
  },
  {
   "cell_type": "markdown",
   "id": "187749ef",
   "metadata": {},
   "source": [
    "### From James's Original Code, Loads and Preprocess Signal Data From File"
   ]
  },
  {
   "cell_type": "code",
   "execution_count": 179,
   "id": "1d21908d",
   "metadata": {},
   "outputs": [],
   "source": [
    "with open(\"2022-11-05_23-29-51__2022-11-06_11-20-39.txt\",\"r\") as eventfile:\n",
    "    df = pd.read_json(eventfile, lines=True)\n",
    "df['stop_time'] = pd.to_datetime(df['stop_time'])\n",
    "df.set_index('stop_time', inplace=True)"
   ]
  },
  {
   "cell_type": "markdown",
   "id": "5554da6b",
   "metadata": {},
   "source": [
    "### Create All Empty Lists"
   ]
  },
  {
   "cell_type": "code",
   "execution_count": 180,
   "id": "fcb039e0",
   "metadata": {},
   "outputs": [],
   "source": [
    "# Store fit results\n",
    "fit_results = []\n",
    "\n",
    "# Make Time_steps list\n",
    "time = df['pol'].index\n",
    "\n",
    "# Extract time portion (hh:mm:ss) as string \n",
    "time_held = pd.Series(time).dt.time.astype(str).tolist()\n",
    "\n",
    "\n",
    "# Create lists for Gaussian Variables\n",
    "amp1_list, amp2_list, amp3_list = [], [], []\n",
    "cen1_list, cen2_list, cen3_list = [], [], []\n",
    "wid1_list, wid2_list, wid3_list = [], [], []\n",
    "\n",
    "amp1_error, amp2_error, amp3_error = [], [], []\n",
    "cen1_error, cen2_error, cen3_error = [], [], []\n",
    "wid1_error, wid2_error, wid3_error = [], [], []\n",
    "\n",
    "amp1_held, amp2_held, amp3_held = [], [], []\n",
    "time_held = []"
   ]
  },
  {
   "cell_type": "markdown",
   "id": "f6809eec",
   "metadata": {},
   "source": [
    "### Define Gaussian(s)"
   ]
  },
  {
   "cell_type": "code",
   "execution_count": 181,
   "id": "84ee29b0",
   "metadata": {},
   "outputs": [],
   "source": [
    "def gaussian(x, amp, cen, wid):\n",
    "    return amp * np.exp(-(x - cen)**2 / (2 * wid**2))\n",
    "\n",
    "def three_gaussians(x, *params):\n",
    "    return sum(gaussian(x, *params[i:i+3]) for i in range(0, 9, 3))\n",
    "\n",
    "def held_gaussians(x, amp1, amp2, amp3):\n",
    "    return (gaussian(x, amp1, cen1, wid1) + gaussian(x, amp2, cen2, wid2) + gaussian(x, amp3, cen3, wid3))"
   ]
  },
  {
   "cell_type": "code",
   "execution_count": 182,
   "id": "6a0f43c5",
   "metadata": {},
   "outputs": [
    {
     "data": {
      "application/vnd.jupyter.widget-view+json": {
       "model_id": "1d2e44e701c94fc984512746c361da6e",
       "version_major": 2,
       "version_minor": 0
      },
      "text/plain": [
       "interactive(children=(IntSlider(value=9, description='Row Index:', max=131), Output()), _dom_classes=('widget-…"
      ]
     },
     "metadata": {},
     "output_type": "display_data"
    },
    {
     "data": {
      "text/plain": [
       "<function __main__.plot_pol_array_with_fit(index)>"
      ]
     },
     "execution_count": 182,
     "metadata": {},
     "output_type": "execute_result"
    }
   ],
   "source": [
    "# Fit and plot individual curve\n",
    "def plot_pol_array_with_fit(index):\n",
    "    plt.figure(figsize=(10, 6))\n",
    "    signal_array = df.iloc[index]['rescurve']\n",
    "    x_data = np.arange(len(signal_array))\n",
    "\n",
    "    mean_val = np.mean(signal_array)\n",
    "    initial_guess = [\n",
    "        mean_val / 3, len(signal_array) / 4, 100,\n",
    "        mean_val / 3, len(signal_array) / 2, 100,\n",
    "        mean_val / 3, 3 * len(signal_array) / 4, 100\n",
    "    ]\n",
    "\n",
    "    try:\n",
    "        # Fit and get covariance matrix\n",
    "        popt, pcov = curve_fit(three_gaussians, x_data, signal_array, p0=initial_guess, maxfev = 10000)\n",
    "        perr = np.sqrt(np.diag(pcov))  # <-- Extract uncertainties\n",
    "\n",
    "        # Print parameters and uncertainties\n",
    "        for i in range(3):\n",
    "            amp, cen, wid = popt[i*3:i*3+3]\n",
    "            amp_err, cen_err, wid_err = perr[i*3:i*3+3]\n",
    "            print(f\"Gaussian {i+1}:\")\n",
    "            print(f\"Amplitude = {amp:.4f} ± {amp_err:.4f}\")\n",
    "            print(f\"Center    = {cen:.2f} ± {cen_err:.2f}\")\n",
    "            print(f\"Width     = {wid:.2f} ± {wid_err:.2f}\")\n",
    "\n",
    "        # Append results\n",
    "        fit_results.append({\n",
    "            'index': index,\n",
    "            'time': df.index[index],\n",
    "            'pol': df.iloc[index]['pol'],\n",
    "            'params': popt\n",
    "        })\n",
    "\n",
    "        # Plot original and fit\n",
    "        plt.plot(x_data, signal_array, label='Original Signal', linewidth=2)\n",
    "        plt.plot(x_data, three_gaussians(x_data, *popt), '--', color='red', label='Total Fit')\n",
    "\n",
    "        # Plot individual Gaussians\n",
    "        colors = ['blue', 'green', 'purple']\n",
    "        for i in range(3):\n",
    "            amp, cen, wid = popt[i*3:i*3+3]\n",
    "            g = gaussian(x_data, amp, cen, wid)\n",
    "            label = f'Gaussian{i+1}'\n",
    "            plt.plot(x_data, g, linestyle=':', color=colors[i], label=label)\n",
    "\n",
    "        plt.title(f\"Signal {index} | Polarization: {df.iloc[index]['pol']:.2f}\")\n",
    "        plt.xlabel(\"Index\")\n",
    "        plt.ylabel(\"Signal\")\n",
    "        plt.grid(True, alpha=0.3)\n",
    "        plt.legend()\n",
    "        plt.show()\n",
    "\n",
    "    except RuntimeError:\n",
    "        print(f\"Fit failed for row {index}\")\n",
    "\n",
    "# Create slider\n",
    "interact(plot_pol_array_with_fit,\n",
    "         index=IntSlider(min=0, max=len(df)-1, step=1, value=9, description='Row Index:'))"
   ]
  },
  {
   "cell_type": "markdown",
   "id": "223e482a",
   "metadata": {},
   "source": [
    "## Set Centers and Widths to Fixed Values"
   ]
  },
  {
   "cell_type": "code",
   "execution_count": 183,
   "id": "609cba52",
   "metadata": {},
   "outputs": [
    {
     "name": "stderr",
     "output_type": "stream",
     "text": [
      "C:\\Users\\Direc\\AppData\\Local\\Temp\\ipykernel_9396\\868333441.py:13: OptimizeWarning: Covariance of the parameters could not be estimated\n",
      "  popt, _ = curve_fit(three_gaussians, x_data, signal, p0=initial_guess, maxfev=10000)\n"
     ]
    }
   ],
   "source": [
    "for i in range(len(df)):\n",
    "    signal = df.iloc[i]['rescurve']\n",
    "    x_data = np.arange(len(signal))\n",
    "    mean_val = np.mean(signal)\n",
    "\n",
    "    initial_guess = [\n",
    "        mean_val / 3, len(signal) / 4, 100,\n",
    "        mean_val / 3, len(signal) / 2, 100,\n",
    "        mean_val / 3, 3 * len(signal) / 4, 100\n",
    "    ]\n",
    "\n",
    "    try:\n",
    "        popt, _ = curve_fit(three_gaussians, x_data, signal, p0=initial_guess, maxfev=10000)\n",
    "        cen1_list.append(popt[1])\n",
    "        wid1_list.append(popt[2])\n",
    "        cen2_list.append(popt[4])\n",
    "        wid2_list.append(popt[5])\n",
    "        cen3_list.append(popt[7])\n",
    "        wid3_list.append(popt[8])\n",
    "    except:\n",
    "        continue\n",
    "\n",
    "cen1 = np.nanmean(cen1_list[21:])\n",
    "wid1 = np.nanmean(wid1_list[21:])\n",
    "cen2 = np.nanmean(cen2_list[21:])\n",
    "wid2 = np.nanmean(wid2_list[21:])\n",
    "cen3 = np.nanmean(cen3_list[21:])\n",
    "wid3 = np.nanmean(wid3_list[21:])\n"
   ]
  },
  {
   "cell_type": "markdown",
   "id": "c2442f7e",
   "metadata": {},
   "source": [
    "## Fit & Plot Amplitudes and Uncertainties With the Fixed Centers and Widths"
   ]
  },
  {
   "cell_type": "code",
   "execution_count": null,
   "id": "43526847",
   "metadata": {},
   "outputs": [
    {
     "data": {
      "image/png": "[encoded data removed]",
      "text/plain": [
       "<Figure size 1000x600 with 1 Axes>"
      ]
     },
     "metadata": {},
     "output_type": "display_data"
    }
   ],
   "source": [
    "# Held fit: fit amplitudes only\n",
    "for i in range(len(df)):\n",
    "    signal = df.iloc[i]['rescurve']\n",
    "    x_data = np.arange(len(signal))\n",
    "    mean_val = np.mean(signal)\n",
    "    initial_guess = [mean_val / 3, mean_val / 3, mean_val / 3]\n",
    "\n",
    "    try:\n",
    "        popt, pcov = curve_fit(held_gaussians, x_data, signal, p0=initial_guess)\n",
    "        perr = np.sqrt(np.diag(pcov)) # <-- Exctract uncertainties\n",
    "\n",
    "        amp1_held.append(popt[0])\n",
    "        amp2_held.append(popt[1])\n",
    "        amp3_held.append(popt[2])\n",
    "        amp1_error.append(perr[0])\n",
    "        amp2_error.append(perr[1])\n",
    "        amp3_error.append(perr[2])\n",
    "        time_held.append(df.index[i])\n",
    "    except RuntimeError:\n",
    "        amp1_held.append(np.nan)\n",
    "        amp2_held.append(np.nan)\n",
    "        amp3_held.append(np.nan)\n",
    "        amp1_error.append(np.nan)\n",
    "        amp2_error.append(np.nan)\n",
    "        amp3_error.append(np.nan)\n",
    "        time_held.append(df.index[i])\n",
    "\n",
    "# Plot\n",
    "plt.figure(figsize=(10, 6))\n",
    "\n",
    "plt.scatter(time_held, amp1_held, label='Gaussian 1 Amplitude', color='blue', marker='.')\n",
    "plt.scatter(time_held, amp2_held, label='Gaussian 2 Amplitude', color='green', marker='.')\n",
    "plt.scatter(time_held, amp3_held, label='Gaussian 3 Amplitude', color='purple', marker='.')\n",
    "plt.errorbar(time_held, amp1_held, yerr=amp1_error, color='blue', ls=f' ')\n",
    "plt.errorbar(time_held, amp2_held, yerr=amp2_error, color='green', ls=f' ')\n",
    "plt.errorbar(time_held, amp3_held, yerr=amp3_error, color='purple', ls=f' ')\n",
    "\n",
    "plt.xlabel(\"Time\")\n",
    "plt.ylabel(\"Amplitude\")\n",
    "plt.title(\"Amplitude vs Time (Fixed Centers & Widths)\")\n",
    "plt.legend()\n",
    "plt.grid(True, alpha=0.3)\n",
    "plt.tight_layout()\n",
    "plt.show()\n"
   ]
  },
  {
   "cell_type": "code",
   "execution_count": null,
   "id": "70851222",
   "metadata": {},
   "outputs": [],
   "source": []
  }
 ],
 "metadata": {
  "kernelspec": {
   "display_name": "Python 3",
   "language": "python",
   "name": "python3"
  },
  "language_info": {
   "codemirror_mode": {
    "name": "ipython",
    "version": 3
   },
   "file_extension": ".py",
   "mimetype": "text/x-python",
   "name": "python",
   "nbconvert_exporter": "python",
   "pygments_lexer": "ipython3",
   "version": "3.11.9"
  }
 },
 "nbformat": 4,
 "nbformat_minor": 5
}
